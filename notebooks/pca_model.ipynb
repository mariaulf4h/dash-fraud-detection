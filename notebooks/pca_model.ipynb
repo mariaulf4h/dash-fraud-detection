{
 "cells": [
  {
   "cell_type": "markdown",
   "id": "defensive-submission",
   "metadata": {},
   "source": [
    "# High-end Model (M3)\n",
    "\n",
    "This model performs the best compared to other previous models (M1 & M3). This is because we combined all the smart methods to shrink the numbers of False Negative (Non-Detected Fraud) and avoid the model to be too sensitive (minimize the False Positive (Non-Fraud transaction Detected as Fraud)). \n",
    "\n",
    "The advanced methods we used including:\n",
    "* Advanced Featured engineering of customers transactions history. This helps to investigate the pattern of fraud transaction and find out what features are strongly correlated to the numbers of fraud transactions. \n",
    "* used the aggregated datase \"value_df.csv\"\n",
    "* Scaled the features datasets.\n",
    "* Hyperparameter Tuning.\n",
    "* Includes more features in modeling.\n",
    "\n",
    "The features including in this High-end models:\n",
    "* 'Amount', (amount of transaction, both debit (positive values) and credit (negative values)\n",
    "* 'ProviderId',(dummy variable with aggregated mean)\n",
    "* 'ProductId', (dummy variable with aggregated mean)\n",
    "* 'ChannelId', (dummy variable with aggregated mean)\n",
    "* 'PricingStrategy',(dummy variable with aggregated mean)\n",
    "* 'fraud_cumsum', (aggregated column from cummulative sum of fraud transaction per customer)\n",
    "* 'value_cumsum', (aggregated column from cummulative sum of fraud transaction values per customer)\n",
    "* 'transaction_cumsum', (aggregated column from cummulative sum of all transaction per customer)\n",
    "* 'value_mean', (aggregated column from cummulative sum of all transaction per customer)\n",
    "* 'hour_sin', (hour cycling by sin)\n",
    "* 'hour_cos', (hour cycling by cos)\n",
    "* 'weekday_sin',(weekday cycling by sin)\n",
    "* 'weekday_cos', (weekday cycling by cos)"
   ]
  },
  {
   "cell_type": "markdown",
   "id": "interstate-hearts",
   "metadata": {},
   "source": [
    "# Import Libraries"
   ]
  },
  {
   "cell_type": "code",
   "execution_count": 2,
   "id": "covered-welding",
   "metadata": {},
   "outputs": [],
   "source": [
    "import pandas as pd\n",
    "import seaborn as sns\n",
    "import matplotlib.pyplot as plt\n",
    "import numpy as np\n",
    "\n",
    "from sklearn.pipeline import Pipeline\n",
    "from sklearn.compose import ColumnTransformer\n",
    "from sklearn.preprocessing import OneHotEncoder, StandardScaler, MinMaxScaler\n",
    "from sklearn.impute import SimpleImputer\n",
    "from sklearn.model_selection import train_test_split\n",
    "from sklearn.model_selection import GridSearchCV, RandomizedSearchCV\n",
    "from sklearn.model_selection import cross_val_predict, cross_val_score, cross_validate\n",
    "from sklearn.metrics import roc_curve, confusion_matrix, accuracy_score, recall_score, precision_score, matthews_corrcoef, f1_score\n",
    "from sklearn.preprocessing import OneHotEncoder\n",
    "from sklearn import metrics, preprocessing, model_selection\n",
    "import xgboost as xgb\n",
    "from xgboost import XGBClassifier\n",
    "from sklearn.metrics import confusion_matrix\n",
    "from sklearn.metrics import plot_confusion_matrix\n",
    "from sklearn.metrics import classification_report\n",
    "from sklearn.ensemble import RandomForestClassifier\n",
    "from sklearn.tree import DecisionTreeClassifier\n",
    "from sklearn.neighbors import KNeighborsClassifier\n",
    "from sklearn.svm import SVC\n",
    "import warnings\n",
    "from sklearn.decomposition import PCA\n",
    "\n",
    "from sklearn.linear_model import LogisticRegression\n",
    "\n",
    "# Set random seed \n",
    "RSEED = 42"
   ]
  },
  {
   "cell_type": "markdown",
   "id": "authentic-pharmacy",
   "metadata": {},
   "source": [
    "# Import Aggregated Dataset"
   ]
  },
  {
   "cell_type": "code",
   "execution_count": 3,
   "id": "incorporated-tuner",
   "metadata": {},
   "outputs": [
    {
     "name": "stdout",
     "output_type": "stream",
     "text": [
      "<class 'pandas.core.frame.DataFrame'>\n",
      "Int64Index: 95662 entries, 0 to 95661\n",
      "Data columns (total 55 columns):\n",
      " #   Column                Non-Null Count  Dtype  \n",
      "---  ------                --------------  -----  \n",
      " 0   TransactionId         95662 non-null  int64  \n",
      " 1   BatchId               95662 non-null  int64  \n",
      " 2   AccountId             95662 non-null  int64  \n",
      " 3   SubscriptionId        95662 non-null  int64  \n",
      " 4   CustomerId            95662 non-null  int64  \n",
      " 5   ProductCategory       95662 non-null  object \n",
      " 6   Amount                95662 non-null  float64\n",
      " 7   Value                 95662 non-null  int64  \n",
      " 8   TransactionStartTime  95662 non-null  object \n",
      " 9   FraudResult           95662 non-null  int64  \n",
      " 10  Date                  95662 non-null  object \n",
      " 11  weekday               95662 non-null  int64  \n",
      " 12  hour                  95662 non-null  int64  \n",
      " 13  month                 95662 non-null  int64  \n",
      " 14  ProviderId_1          95662 non-null  float64\n",
      " 15  ProviderId_2          95662 non-null  float64\n",
      " 16  ProviderId_3          95662 non-null  float64\n",
      " 17  ProviderId_4          95662 non-null  float64\n",
      " 18  ProviderId_5          95662 non-null  float64\n",
      " 19  ProviderId_6          95662 non-null  float64\n",
      " 20  ProductId_1           95662 non-null  float64\n",
      " 21  ProductId_2           95662 non-null  float64\n",
      " 22  ProductId_3           95662 non-null  float64\n",
      " 23  ProductId_4           95662 non-null  float64\n",
      " 24  ProductId_5           95662 non-null  float64\n",
      " 25  ProductId_6           95662 non-null  float64\n",
      " 26  ProductId_7           95662 non-null  float64\n",
      " 27  ProductId_8           95662 non-null  float64\n",
      " 28  ProductId_9           95662 non-null  float64\n",
      " 29  ProductId_10          95662 non-null  float64\n",
      " 30  ProductId_11          95662 non-null  float64\n",
      " 31  ProductId_12          95662 non-null  float64\n",
      " 32  ProductId_13          95662 non-null  float64\n",
      " 33  ProductId_14          95662 non-null  float64\n",
      " 34  ProductId_15          95662 non-null  float64\n",
      " 35  ProductId_16          95662 non-null  float64\n",
      " 36  ProductId_19          95662 non-null  float64\n",
      " 37  ProductId_20          95662 non-null  float64\n",
      " 38  ProductId_21          95662 non-null  float64\n",
      " 39  ProductId_22          95662 non-null  float64\n",
      " 40  ProductId_23          95662 non-null  float64\n",
      " 41  ProductId_24          95662 non-null  float64\n",
      " 42  ProductId_27          95662 non-null  float64\n",
      " 43  ChannelId_1           95662 non-null  float64\n",
      " 44  ChannelId_2           95662 non-null  float64\n",
      " 45  ChannelId_3           95662 non-null  float64\n",
      " 46  ChannelId_5           95662 non-null  float64\n",
      " 47  PricingStrategy_0     95662 non-null  float64\n",
      " 48  PricingStrategy_1     95662 non-null  float64\n",
      " 49  PricingStrategy_2     95662 non-null  float64\n",
      " 50  PricingStrategy_4     95662 non-null  float64\n",
      " 51  fraud_cumsum          95662 non-null  int64  \n",
      " 52  value_cumsum          95662 non-null  int64  \n",
      " 53  transaction_cumsum    95662 non-null  int64  \n",
      " 54  value_mean            95662 non-null  float64\n",
      "dtypes: float64(39), int64(13), object(3)\n",
      "memory usage: 40.9+ MB\n"
     ]
    }
   ],
   "source": [
    "df = pd.read_csv(\"data/value_df.csv\", index_col = 0)\n",
    "\n",
    "df.info()"
   ]
  },
  {
   "cell_type": "markdown",
   "id": "reasonable-bullet",
   "metadata": {},
   "source": [
    "# Cycling Hour & Weekday (Sin Cos)"
   ]
  },
  {
   "cell_type": "code",
   "execution_count": 7,
   "id": "broke-steam",
   "metadata": {},
   "outputs": [],
   "source": [
    "df['hour_sin'] = np.sin(2 * np.pi * df['hour']/23.0)\n",
    "df['hour_cos'] = np.cos(2 * np.pi * df['hour']/23.0)"
   ]
  },
  {
   "cell_type": "code",
   "execution_count": 8,
   "id": "breathing-oxford",
   "metadata": {},
   "outputs": [
    {
     "data": {
      "image/png": "[encoded data removed]",
      "text/plain": [
       "<Figure size 432x288 with 1 Axes>"
      ]
     },
     "metadata": {
      "needs_background": "light"
     },
     "output_type": "display_data"
    }
   ],
   "source": [
    "ax = df.plot.scatter('hour_sin', 'hour_cos').set_aspect('equal')"
   ]
  },
  {
   "cell_type": "code",
   "execution_count": 9,
   "id": "happy-warrant",
   "metadata": {},
   "outputs": [],
   "source": [
    "df['weekday_sin'] = np.sin(2 * np.pi * df['weekday']/6.0)\n",
    "df['weekday_cos'] = np.cos(2 * np.pi * df['weekday']/6.0)"
   ]
  },
  {
   "cell_type": "code",
   "execution_count": 10,
   "id": "operational-hampton",
   "metadata": {},
   "outputs": [
    {
     "data": {
      "image/png": "[encoded data removed]",
      "text/plain": [
       "<Figure size 432x288 with 1 Axes>"
      ]
     },
     "metadata": {
      "needs_background": "light"
     },
     "output_type": "display_data"
    }
   ],
   "source": [
    "ax = df.plot.scatter('weekday_sin', 'weekday_cos').set_aspect('equal')"
   ]
  },
  {
   "cell_type": "markdown",
   "id": "interim-general",
   "metadata": {},
   "source": [
    "# Removing some unimportant Features"
   ]
  },
  {
   "cell_type": "code",
   "execution_count": 11,
   "id": "seeing-florida",
   "metadata": {},
   "outputs": [],
   "source": [
    "# import function from script\n",
    "from scripts.functions import remove_columns"
   ]
  },
  {
   "cell_type": "code",
   "execution_count": 12,
   "id": "biological-delay",
   "metadata": {},
   "outputs": [
    {
     "data": {
      "text/plain": [
       "Index(['Amount', 'FraudResult', 'ProviderId_2', 'ProviderId_3', 'ProviderId_4',\n",
       "       'ProviderId_5', 'ProviderId_6', 'ProductId_2', 'ProductId_3',\n",
       "       'ProductId_4', 'ProductId_5', 'ProductId_6', 'ProductId_7',\n",
       "       'ProductId_8', 'ProductId_9', 'ProductId_10', 'ProductId_11',\n",
       "       'ProductId_12', 'ProductId_13', 'ProductId_14', 'ProductId_15',\n",
       "       'ProductId_16', 'ProductId_19', 'ProductId_20', 'ProductId_21',\n",
       "       'ProductId_22', 'ProductId_23', 'ProductId_24', 'ProductId_27',\n",
       "       'ChannelId_2', 'ChannelId_3', 'ChannelId_5', 'PricingStrategy_1',\n",
       "       'PricingStrategy_2', 'PricingStrategy_4', 'fraud_cumsum',\n",
       "       'value_cumsum', 'transaction_cumsum', 'value_mean', 'hour_sin',\n",
       "       'hour_cos', 'weekday_sin', 'weekday_cos'],\n",
       "      dtype='object')"
      ]
     },
     "execution_count": 12,
     "metadata": {},
     "output_type": "execute_result"
    }
   ],
   "source": [
    "drop_list = ['ProductCategory', 'ChannelId_1', \"ProductId_1\", 'ProviderId_1',  'PricingStrategy_0', 'TransactionId', 'BatchId', 'AccountId', 'SubscriptionId', 'CustomerId',\n",
    "       'CurrencyCode', 'CountryCode', 'Value', 'TransactionStartTime', 'year',\n",
    "       'month', \"Date\", \"weekday\", \"hour\"]\n",
    "\n",
    "df = remove_columns(df, drop_list)\n",
    "df.columns"
   ]
  },
  {
   "cell_type": "markdown",
   "id": "dying-netscape",
   "metadata": {},
   "source": [
    "# Define X and y data for Modeling"
   ]
  },
  {
   "cell_type": "code",
   "execution_count": 13,
   "id": "quiet-province",
   "metadata": {},
   "outputs": [],
   "source": [
    "# split data into features and targets/labels\n",
    "\n",
    "X = df.drop(\"FraudResult\", axis = 1)\n",
    "y = df.FraudResult"
   ]
  },
  {
   "cell_type": "code",
   "execution_count": 14,
   "id": "royal-omega",
   "metadata": {},
   "outputs": [
    {
     "data": {
      "text/plain": [
       "Index(['Amount', 'ProviderId_2', 'ProviderId_3', 'ProviderId_4',\n",
       "       'ProviderId_5', 'ProviderId_6', 'ProductId_2', 'ProductId_3',\n",
       "       'ProductId_4', 'ProductId_5', 'ProductId_6', 'ProductId_7',\n",
       "       'ProductId_8', 'ProductId_9', 'ProductId_10', 'ProductId_11',\n",
       "       'ProductId_12', 'ProductId_13', 'ProductId_14', 'ProductId_15',\n",
       "       'ProductId_16', 'ProductId_19', 'ProductId_20', 'ProductId_21',\n",
       "       'ProductId_22', 'ProductId_23', 'ProductId_24', 'ProductId_27',\n",
       "       'ChannelId_2', 'ChannelId_3', 'ChannelId_5', 'PricingStrategy_1',\n",
       "       'PricingStrategy_2', 'PricingStrategy_4', 'fraud_cumsum',\n",
       "       'value_cumsum', 'transaction_cumsum', 'value_mean', 'hour_sin',\n",
       "       'hour_cos', 'weekday_sin', 'weekday_cos'],\n",
       "      dtype='object')"
      ]
     },
     "execution_count": 14,
     "metadata": {},
     "output_type": "execute_result"
    }
   ],
   "source": [
    "# Train test split dataset\n",
    "\n",
    "X_train, X_test, y_train, y_test = train_test_split(X, y, test_size = 0.3, random_state = RSEED, stratify = y)\n",
    "\n",
    "X_train.columns"
   ]
  },
  {
   "cell_type": "markdown",
   "id": "cross-attitude",
   "metadata": {},
   "source": [
    "# Balancing the Training Dataset"
   ]
  },
  {
   "cell_type": "code",
   "execution_count": 15,
   "id": "hired-encoding",
   "metadata": {},
   "outputs": [],
   "source": [
    "from imblearn.over_sampling import SMOTE #require the instalation imblearn library, available in requirement.txt\n",
    "from imblearn import under_sampling, over_sampling"
   ]
  },
  {
   "cell_type": "code",
   "execution_count": 16,
   "id": "banner-eligibility",
   "metadata": {},
   "outputs": [],
   "source": [
    "def balance_traindata(X_train, y_train):\n",
    "    '''\n",
    "    requires 2 parameters: X_train, y_train\n",
    "    returns: X_train, y_train (with balanced y_train values)\n",
    "    '''\n",
    "    # Oversample data\n",
    "    smote_algo = SMOTE(random_state=0)\n",
    "    smote_data_X, smote_data_Y = smote_algo.fit_resample(X_train, y_train)\n",
    "    smote_data_X = pd.DataFrame(data=smote_data_X, columns=X_train.columns)\n",
    "    smote_data_Y = pd.DataFrame(data=smote_data_Y)\n",
    "    # Join X and Y smote data into one\n",
    "    smote_data = smote_data_X\n",
    "    return smote_data, smote_data_Y[y_test.name]"
   ]
  },
  {
   "cell_type": "code",
   "execution_count": 17,
   "id": "another-mounting",
   "metadata": {},
   "outputs": [],
   "source": [
    "#from scripts.functions import balance_traindata"
   ]
  },
  {
   "cell_type": "code",
   "execution_count": 18,
   "id": "fifth-vulnerability",
   "metadata": {},
   "outputs": [],
   "source": [
    "X_trainB, y_trainB = balance_traindata(X_train, y_train)"
   ]
  },
  {
   "cell_type": "code",
   "execution_count": 19,
   "id": "searching-withdrawal",
   "metadata": {},
   "outputs": [
    {
     "name": "stdout",
     "output_type": "stream",
     "text": [
      "Shape in X_trainB =  (133656, 42)\n",
      "Shape in y_trainB = (133656,)\n",
      "Count of '0' in y_trainB = 66828\n",
      "Count of '1' in y_trainB = 66828\n"
     ]
    }
   ],
   "source": [
    "print(f\"Shape in X_trainB =  {X_trainB.shape}\")\n",
    "print(f\"Shape in y_trainB = {y_trainB.shape}\")\n",
    "print(f\"Count of '0' in y_trainB = {y_trainB.value_counts()[0]}\")\n",
    "print(f\"Count of '1' in y_trainB = {y_trainB.value_counts()[0]}\")"
   ]
  },
  {
   "cell_type": "markdown",
   "id": "local-point",
   "metadata": {},
   "source": [
    "# SCALING DATA X_train and X_test"
   ]
  },
  {
   "cell_type": "code",
   "execution_count": 70,
   "id": "dying-cardiff",
   "metadata": {},
   "outputs": [],
   "source": [
    "col_scale = list(X_train.columns)"
   ]
  },
  {
   "cell_type": "code",
   "execution_count": 67,
   "id": "original-decade",
   "metadata": {},
   "outputs": [
    {
     "name": "stdout",
     "output_type": "stream",
     "text": [
      "-9.501888138375534\n",
      "220.12122402531526\n",
      "-9.501888138375534\n",
      "211.2305695506133\n",
      "(28699, 42)\n"
     ]
    }
   ],
   "source": [
    "scaler = StandardScaler()\n",
    "X_train_scaled = scaler.fit_transform(X_train[col_scale]) #tranform the data and make the variable after standardized\n",
    "X_test_scaled = scaler.transform(X_test[col_scale])\n",
    "\n",
    "print(X_train_scaled.min())\n",
    "print(X_train_scaled.max())\n",
    "print(X_test_scaled.min())\n",
    "print(X_test_scaled.max())\n",
    "print(X_test_scaled.shape)"
   ]
  },
  {
   "cell_type": "code",
   "execution_count": 71,
   "id": "white-guyana",
   "metadata": {},
   "outputs": [],
   "source": [
    "# Concatenating scaled and dummy columns \n",
    "X_train_preprocessed = X_train_scaled #np.concatenate([X_train_scaled, X_train.drop(col_scale, axis=1)], axis=1)\n",
    "X_test_preprocessed = X_test_scaled #np.concatenate([X_test_scaled, X_test.drop(col_scale, axis=1)], axis=1)\n",
    "\n",
    "#X_test_preprocessed.shape"
   ]
  },
  {
   "cell_type": "code",
   "execution_count": 23,
   "id": "nearby-ranking",
   "metadata": {},
   "outputs": [
    {
     "data": {
      "text/plain": [
       "66963"
      ]
     },
     "execution_count": 23,
     "metadata": {},
     "output_type": "execute_result"
    }
   ],
   "source": [
    "len(X_train_preprocessed)"
   ]
  },
  {
   "cell_type": "code",
   "execution_count": 24,
   "id": "sustainable-window",
   "metadata": {},
   "outputs": [
    {
     "data": {
      "text/plain": [
       "28699"
      ]
     },
     "execution_count": 24,
     "metadata": {},
     "output_type": "execute_result"
    }
   ],
   "source": [
    "len(X_test_preprocessed)"
   ]
  },
  {
   "cell_type": "markdown",
   "id": "trying-microphone",
   "metadata": {},
   "source": [
    "# PCA "
   ]
  },
  {
   "cell_type": "code",
   "execution_count": 72,
   "id": "outstanding-currency",
   "metadata": {},
   "outputs": [],
   "source": [
    "pca = PCA(n_components=None)"
   ]
  },
  {
   "cell_type": "code",
   "execution_count": 73,
   "id": "random-partition",
   "metadata": {},
   "outputs": [],
   "source": [
    "s_X_train_scaled_trans = pca.fit(X_train_preprocessed)\n",
    "X_train_scaled_trans = pca.transform(X_train_preprocessed)\n",
    "df_X_train_scaled_trans = pd.DataFrame(X_train_scaled_trans)\n"
   ]
  },
  {
   "cell_type": "code",
   "execution_count": 74,
   "id": "pressed-criminal",
   "metadata": {},
   "outputs": [],
   "source": [
    "X_test_scaled_trans = pca.transform(X_test_preprocessed)\n",
    "df_X_test_scaled_trans = pd.DataFrame(X_test_scaled_trans)\n",
    "#df_X_test_scaled_trans"
   ]
  },
  {
   "cell_type": "code",
   "execution_count": 75,
   "id": "relative-electricity",
   "metadata": {},
   "outputs": [
    {
     "data": {
      "image/png": "[encoded data removed]",
      "text/plain": [
       "<Figure size 720x432 with 1 Axes>"
      ]
     },
     "metadata": {
      "needs_background": "light"
     },
     "output_type": "display_data"
    }
   ],
   "source": [
    "import matplotlib.pyplot as plt\n",
    "\n",
    "plt.figure(figsize=(10,6))\n",
    "plt.scatter(x=[i+1 for i in range(len(s_X_train_scaled_trans.explained_variance_ratio_))],\n",
    "            y=s_X_train_scaled_trans.explained_variance_ratio_,\n",
    "            s=200, alpha=0.75,c='orange',edgecolor='k')\n",
    "plt.grid(True)\n",
    "plt.title(\"Explained variance ratio of the \\nfitted principal component vector\\n\",fontsize=25)\n",
    "plt.xlabel(\"Principal components\",fontsize=15)\n",
    "plt.xticks([i+1 for i in range(len(s_X_train_scaled_trans.explained_variance_ratio_))],fontsize=15)\n",
    "plt.yticks(fontsize=15)\n",
    "plt.ylabel(\"Explained variance ratio\",fontsize=15)\n",
    "plt.show()"
   ]
  },
  {
   "cell_type": "markdown",
   "id": "confidential-agriculture",
   "metadata": {},
   "source": [
    "# XGBoost Models with SCALED & PCA Transformed Data"
   ]
  },
  {
   "cell_type": "code",
   "execution_count": 63,
   "id": "toxic-mounting",
   "metadata": {},
   "outputs": [],
   "source": [
    "variables = [0, 1]"
   ]
  },
  {
   "cell_type": "code",
   "execution_count": 80,
   "id": "respected-content",
   "metadata": {},
   "outputs": [
    {
     "name": "stdout",
     "output_type": "stream",
     "text": [
      "[14:47:09] WARNING: /Users/travis/build/dmlc/xgboost/src/learner.cc:1061: Starting in XGBoost 1.3.0, the default evaluation metric used with the objective 'binary:logistic' was changed from 'error' to 'logloss'. Explicitly set eval_metric if you'd like to restore the old behavior.\n",
      "              precision    recall  f1-score   support\n",
      "\n",
      "           0       1.00      1.00      1.00     28641\n",
      "           1       0.81      0.72      0.76        58\n",
      "\n",
      "    accuracy                           1.00     28699\n",
      "   macro avg       0.90      0.86      0.88     28699\n",
      "weighted avg       1.00      1.00      1.00     28699\n",
      "\n",
      "mcc: 0.7643260943544181\n",
      "acc: 0.999094045088679\n",
      "Confusion matrix, without normalization\n",
      "[[28631    10]\n",
      " [   16    42]]\n"
     ]
    },
    {
     "data": {
      "image/png": "[encoded data removed]",
      "text/plain": [
       "<Figure size 432x432 with 2 Axes>"
      ]
     },
     "metadata": {
      "needs_background": "light"
     },
     "output_type": "display_data"
    }
   ],
   "source": [
    "#f1 93%, FN 5 -- > use_label_encoder = False, n_estimators = 1000, reg_lambda = 1.5\n",
    "\n",
    "xgb = XGBClassifier(random_state = RSEED, use_label_encoder = False, n_estimators = 1000, reg_lambda= 1.5)\n",
    "\n",
    "xgb_model = xgb.fit(df_X_train_scaled_trans, y_train)\n",
    "\n",
    "# Make predictions on test set \n",
    "y_pred = xgb_model.predict(df_X_test_scaled_trans)\n",
    "\n",
    "# Evaluate your model \n",
    "cm = confusion_matrix(y_test, y_pred)\n",
    "\n",
    "#classification Report\n",
    "\n",
    "report = classification_report(y_test, y_pred)\n",
    "print(report)\n",
    "\n",
    "#MCC score\n",
    "mcc = matthews_corrcoef(y_test, y_pred)\n",
    "print(f\"mcc: {mcc}\")\n",
    "\n",
    "# accuracy score\n",
    "accuracy = accuracy_score(y_test, y_pred)\n",
    "print(f\"acc: {accuracy}\")\n",
    "\n",
    "\n",
    "#import function from python scripts\n",
    "from scripts.confusion_matrix import plot_confusion_matrix \n",
    "\n",
    "plt = plot_confusion_matrix(cm, classes = ['not-fraud', 'fraud'], cmap='YlGnBu', title = \"High-End-Model, XGBoost: Fraud Detection\")\n",
    "\n",
    "#sns.heatmap(cm, cmap='YlGnBu', annot=True, fmt='d', linewidths=.5);"
   ]
  },
  {
   "cell_type": "markdown",
   "id": "brazilian-american",
   "metadata": {},
   "source": [
    "# M3 XGBoost with Balanced Data \n",
    "## (Not Good F1/Mcc Score: 86%, with FN 5, and FP 12)"
   ]
  },
  {
   "cell_type": "code",
   "execution_count": null,
   "id": "lovely-mattress",
   "metadata": {},
   "outputs": [],
   "source": [
    "#Training\n",
    "xgb = XGBClassifier(use_label_encoder = False, n_estimators = 1000)\n",
    "xgb_modelB = xgb.fit(X_trainB, y_trainB)\n",
    "\n",
    "# Make predictions on test set \n",
    "y_pred = xgb.predict(X_test)\n",
    "\n",
    "# Evaluate your model \n",
    "cm = confusion_matrix(y_test, y_pred)\n",
    "\n",
    "#classification Report\n",
    "\n",
    "report = classification_report(y_test, y_pred)\n",
    "print(report)\n",
    "\n",
    "#MCC score\n",
    "mcc = matthews_corrcoef(y_test, y_pred)\n",
    "print(f\"mcc: {mcc}\")\n",
    "\n",
    "# accuracy score\n",
    "accuracy = accuracy_score(y_test, y_pred)\n",
    "print(f\"acc: {accuracy}\")\n",
    "\n",
    "\n",
    "#import function from python scripts\n",
    "from scripts.confusion_matrix import plot_confusion_matrix \n",
    "\n",
    "plot_confusion_matrix(cm, classes = ['not-fraud', 'fraud'], cmap='YlGnBu', title = \"High-End Model-XGBoost: Fraud Detection\")\n",
    "#sns.heatmap(cm, cmap='YlGnBu', annot=True, fmt='d', linewidths=.5);"
   ]
  },
  {
   "cell_type": "markdown",
   "id": "french-princess",
   "metadata": {},
   "source": [
    "# TAKEN M3 XGBoost with Scaled Data\n",
    "## The Best Score So Far (F1&MCC 93%, FN: 5 and FP: 3)"
   ]
  },
  {
   "cell_type": "code",
   "execution_count": 81,
   "id": "bigger-automation",
   "metadata": {},
   "outputs": [
    {
     "name": "stdout",
     "output_type": "stream",
     "text": [
      "[14:48:36] WARNING: /Users/travis/build/dmlc/xgboost/src/learner.cc:1061: Starting in XGBoost 1.3.0, the default evaluation metric used with the objective 'binary:logistic' was changed from 'error' to 'logloss'. Explicitly set eval_metric if you'd like to restore the old behavior.\n",
      "              precision    recall  f1-score   support\n",
      "\n",
      "           0       1.00      1.00      1.00     28641\n",
      "           1       0.95      0.91      0.93        58\n",
      "\n",
      "    accuracy                           1.00     28699\n",
      "   macro avg       0.97      0.96      0.96     28699\n",
      "weighted avg       1.00      1.00      1.00     28699\n",
      "\n",
      "mcc: 0.9298286250394356\n",
      "acc: 0.9997212446426704\n",
      "Confusion matrix, without normalization\n",
      "[[28638     3]\n",
      " [    5    53]]\n"
     ]
    },
    {
     "data": {
      "image/png": "[encoded data removed]",
      "text/plain": [
       "<Figure size 432x432 with 2 Axes>"
      ]
     },
     "metadata": {
      "needs_background": "light"
     },
     "output_type": "display_data"
    }
   ],
   "source": [
    "#f1 93%, FN 5 -- > use_label_encoder = False, n_estimators = 1000, reg_lambda = 1.5\n",
    "\n",
    "xgb = XGBClassifier(random_state = RSEED, use_label_encoder = False, n_estimators = 1000, reg_lambda= 1.5)\n",
    "\n",
    "xgb_model = xgb.fit(X_train_preprocessed, y_train)\n",
    "\n",
    "# Make predictions on test set \n",
    "y_pred = xgb.predict(X_test_preprocessed)\n",
    "\n",
    "# Evaluate your model \n",
    "cm = confusion_matrix(y_test, y_pred)\n",
    "\n",
    "#classification Report\n",
    "\n",
    "report = classification_report(y_test, y_pred)\n",
    "print(report)\n",
    "\n",
    "#MCC score\n",
    "mcc = matthews_corrcoef(y_test, y_pred)\n",
    "print(f\"mcc: {mcc}\")\n",
    "\n",
    "# accuracy score\n",
    "accuracy = accuracy_score(y_test, y_pred)\n",
    "print(f\"acc: {accuracy}\")\n",
    "\n",
    "\n",
    "#import function from python scripts\n",
    "from scripts.confusion_matrix import plot_confusion_matrix \n",
    "\n",
    "plt = plot_confusion_matrix(cm, classes = ['not-fraud', 'fraud'], cmap='YlGnBu', title = \"High-End-Model, XGBoost: Fraud Detection\")\n",
    "\n",
    "#sns.heatmap(cm, cmap='YlGnBu', annot=True, fmt='d', linewidths=.5);"
   ]
  },
  {
   "cell_type": "code",
   "execution_count": 26,
   "id": "outstanding-consistency",
   "metadata": {},
   "outputs": [
    {
     "name": "stdout",
     "output_type": "stream",
     "text": [
      "Feature Importances :  [2.0357101e-01 0.0000000e+00 1.1310681e-01 1.9713460e-01 2.6809091e-02\n",
      " 1.5262518e-02 0.0000000e+00 1.1050226e-03 0.0000000e+00 0.0000000e+00\n",
      " 2.0367412e-03 0.0000000e+00 4.6277262e-02 0.0000000e+00 3.3094887e-02\n",
      " 9.3302876e-03 0.0000000e+00 3.1565387e-02 0.0000000e+00 7.4794644e-04\n",
      " 0.0000000e+00 9.6528474e-03 0.0000000e+00 1.1653805e-01 0.0000000e+00\n",
      " 0.0000000e+00 0.0000000e+00 0.0000000e+00 2.3165140e-03 6.9847219e-03\n",
      " 1.2117023e-02 0.0000000e+00 1.7300425e-02 1.6147373e-04 9.0690076e-02\n",
      " 9.7094243e-03 1.0245623e-02 1.7815743e-02 3.7995677e-03 1.2205668e-02\n",
      " 2.9277494e-03 7.4934578e-03]\n"
     ]
    }
   ],
   "source": [
    "# Important Features\n",
    "print(\"Feature Importances : \", xgb_model.feature_importances_)"
   ]
  },
  {
   "cell_type": "code",
   "execution_count": 27,
   "id": "utility-gambling",
   "metadata": {},
   "outputs": [
    {
     "data": {
      "image/png": "[encoded data removed]",
      "text/plain": [
       "<Figure size 432x288 with 1 Axes>"
      ]
     },
     "metadata": {
      "needs_background": "light"
     },
     "output_type": "display_data"
    }
   ],
   "source": [
    "from xgboost import plot_importance\n",
    "import matplotlib.pyplot as plt\n",
    "plot_importance(xgb_model, height=0.9, title='Feature importance High-End Model', xlabel='Feature Score', ylabel='Features', fmap='',\n",
    "    importance_type='weight', max_num_features= 10,)\n",
    "plt.show()"
   ]
  },
  {
   "cell_type": "markdown",
   "id": "boxed-wildlife",
   "metadata": {},
   "source": [
    "# Hyperparameter Tuning\n",
    "### Notes:\n",
    "* RandomizedSearchCV will work much faster than GridSearchCV, but it doesn't improve the score even make it worst. From my trial below, using RandomizedSearchCV, I end up getting only 90% f1 score and 90% recall.\n",
    "* GridSearchCV works sooooo sloooowww, I have waited for hours and hours didn't come up with result."
   ]
  },
  {
   "cell_type": "code",
   "execution_count": null,
   "id": "flexible-journalist",
   "metadata": {},
   "outputs": [],
   "source": [
    "parameters = {\"learning_rate\" : [0.05, 0.10, 0.15, 0.20, 0.25, 0.30 ] ,\n",
    "              \"max_depth\" : [ 3, 4, 5, 6, 8, 10, 12, 15],\n",
    "              \"min_child_weight\" : [ 1, 3, 5, 7 ],\n",
    "              \"gamma\" : [ 0.0, 0.1, 0.2 , 0.3, 0.4 ],\n",
    "              \"colsample_bytree\" : [ 0.3, 0.4, 0.5 , 0.7 ],\n",
    "             \"reg_lambda\": [1., 1.3, 1.5, 1.7]} \n",
    "\n",
    "\n",
    "\n",
    "xgb = XGBClassifier(random_state= 50)\n",
    "\n",
    "xgb_grid = RandomizedSearchCV(xgb, parameters,\n",
    "                              n_jobs= -1, \n",
    "                              cv=5,\n",
    "                              scoring='recall',\n",
    "                              verbose=2, \n",
    "                              refit=True,\n",
    "                             random_state = 50)\n",
    "\n",
    "\n",
    "# training after hyperparameter tuning\n",
    "model = xgb_grid.fit(X_train_preprocessed, y_train)\n",
    "\n",
    "\n",
    "# Best score for hyper parameter tuning\n",
    "print('Best score:', round(xgb_grid.best_score_, 3))\n",
    "\n",
    "# Best parameters \n",
    "print('Best parameters:', xgb_grid.best_params_)"
   ]
  },
  {
   "cell_type": "code",
   "execution_count": null,
   "id": "authentic-extra",
   "metadata": {},
   "outputs": [],
   "source": [
    "#implement best_estimator_\n",
    "model_best = xgb_grid.best_estimator_\n",
    "\n",
    "# Make predictions on test set \n",
    "y_pred = model_best.predict(X_test_preprocessed)\n",
    "\n",
    "# Evaluate your model \n",
    "cm = confusion_matrix(y_test, y_pred)\n",
    "\n",
    "#classification Report\n",
    "\n",
    "report = classification_report(y_test, y_pred)\n",
    "print(report)\n",
    "\n",
    "#MCC score\n",
    "mcc = matthews_corrcoef(y_test, y_pred)\n",
    "print(f\"mcc: {mcc}\")\n",
    "\n",
    "# accuracy score\n",
    "accuracy = accuracy_score(y_test, y_pred)\n",
    "print(f\"acc: {accuracy}\")\n",
    "\n",
    "\n",
    "#import function from python scripts\n",
    "from scripts.confusion_matrix import plot_confusion_matrix \n",
    "\n",
    "plot_confusion_matrix(cm, classes = ['not-fraud', 'fraud'], cmap='YlGnBu', title = \"High-End-Model, XGBoost-Tuned: Fraud Detection\")\n",
    "#sns.heatmap(cm, cmap='YlGnBu', annot=True, fmt='d', linewidths=.5);"
   ]
  },
  {
   "cell_type": "markdown",
   "id": "damaged-sweden",
   "metadata": {},
   "source": [
    "## Different parameters you can play with when trying Hyperparameter Tuning"
   ]
  },
  {
   "cell_type": "code",
   "execution_count": null,
   "id": "serial-danish",
   "metadata": {},
   "outputs": [],
   "source": [
    "\"\"\"param_dist = {'n_estimators': stats.randint(150, 500),\n",
    "              'learning_rate': stats.uniform(0.01, 0.07),\n",
    "              'subsample': stats.uniform(0.3, 0.7),\n",
    "              'max_depth': [3, 4, 5, 6, 7, 8, 9],\n",
    "              'colsample_bytree': stats.uniform(0.5, 0.45),\n",
    "              'min_child_weight': [1, 2, 3]\n",
    "             }\n",
    "\"\"\"\n",
    "\"\"\"parameters = {'objective':['binary:logistic'], #learning task and the corresponding learning objective\n",
    "              'learning_rate': [0.05, 0.01, 0.1, 0.2, 0.3], #Boosting learning rate, so called `eta` value\n",
    "              'max_depth': [None] + list(np.linspace(3, 20).astype(int)), #Maximum tree depth for base learners.\n",
    "              'min_child_weight': [10, 11], #Minimum sum of instance weight(hessian) needed in a child\n",
    "              'colsample_bytree': [0.3, 0.5, 0.7],#Subsample ratio of columns when constructing each tree\n",
    "              'n_estimators': np.linspace(10, 1000).astype(int)} #number of trees, \"\"\"\n"
   ]
  }
 ],
 "metadata": {
  "kernelspec": {
   "display_name": "Python 3",
   "language": "python",
   "name": "python3"
  },
  "language_info": {
   "codemirror_mode": {
    "name": "ipython",
    "version": 3
   },
   "file_extension": ".py",
   "mimetype": "text/x-python",
   "name": "python",
   "nbconvert_exporter": "python",
   "pygments_lexer": "ipython3",
   "version": "3.8.5"
  }
 },
 "nbformat": 4,
 "nbformat_minor": 5
}
